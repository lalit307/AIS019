{
 "cells": [
  {
   "cell_type": "markdown",
   "metadata": {},
   "source": [
    "**Q1**"
   ]
  },
  {
   "cell_type": "markdown",
   "metadata": {},
   "source": [
    " **Variable:** \n",
    "- **Defination:** It is a way to define some information in the memory and can be fetch later by using variable names.\n",
    "- **Rules to define variable:** Variable name can start with letters or underscore. It must consist of letters,\n",
    "numbers and underscores. Also, variable names are not case sensitive. ABC,\n",
    "Abc and abc are three different variables."
   ]
  },
  {
   "cell_type": "markdown",
   "metadata": {},
   "source": [
    "**Q2**"
   ]
  },
  {
   "cell_type": "markdown",
   "metadata": {},
   "source": [
    "- There are four primitive built in data type in python which are **integers, floats, booleans and strings**. \n",
    "- **Integers:** Integers are used when we want to represent numeric data, whole number specifically. Whole numbers can take negative as well. \n",
    "- **Floats:**  Floats are used to represent floating point numbers. We can use it for decimals and rational numbers such as 1.3, 3.4. See how I declared a float below.\n",
    "- **Booleans:** Boolean are data types that can take up the values: True and False. They are useful for in conditional and comparison expression.\n",
    "- **Strings:** To store words, characters and alphabets, we can use strings.  string variable can be created by enclosing a sequence of characters in a single, double or triple quote."
   ]
  },
  {
   "cell_type": "markdown",
   "metadata": {},
   "source": [
    "**Q3**"
   ]
  },
  {
   "cell_type": "markdown",
   "metadata": {},
   "source": [
    "- **Mutable Objects:** The object which can be changed after it is created is mutable object.\n",
    "- **Immutable Objects:** The object which can not be changed after it is created is mutable object.\n",
    "- **Mutable datatypes in Python:** List,Set,Dictionary.\n",
    "- **Immuutable datatypes:** Boolean,Integer,Float,Tuple,Strimg,Frozenset."
   ]
  },
  {
   "cell_type": "markdown",
   "metadata": {},
   "source": [
    "**Q4**"
   ]
  },
  {
   "cell_type": "markdown",
   "metadata": {},
   "source": [
    "- We can get the length of string by using **len()** cammand.\n",
    "- **Syntax:** *len(string)*  $\\;\\;\\;\\;$ (where, string can be 'abc',\"abc\",'1' etc.)"
   ]
  },
  {
   "cell_type": "markdown",
   "metadata": {},
   "source": [
    "**Q5**"
   ]
  },
  {
   "cell_type": "markdown",
   "metadata": {},
   "source": [
    "- **>,<.>=,<=,==,!=** etc are the relational operators in python.\n",
    "- **Use of relational operators:**\n",
    "    - **>:** for two variables a and b, the > (greater than) operator returns true if variable a is greater than variable b, else it returns false. \n",
    "    - **>:** for two variables a and b, the < (less than) operator returns true if variable a is less than variable b, else it returns false. \n",
    "    - **>=:** for two variables a and b, the >= (greater than or equal to) operator returns true if variable a is greater than or equal to variable b, else it returns false. \n",
    "    - **>=:** for two variables a and b, the <= (less than or equal to) operator returns true if variable a is less than or equal to variable b, else it returns false. \n",
    "    - **==:** for two variables a and b, the >= (equal to) operator returns true if variable a is equal to variable b, else it returns false. \n",
    "    - **!=:** for two variables a and b, the != (not equal to) operator returns true if variable a is not equal to variable b, else it returns false. "
   ]
  },
  {
   "cell_type": "markdown",
   "metadata": {},
   "source": [
    "**Q6**"
   ]
  },
  {
   "cell_type": "markdown",
   "metadata": {},
   "source": [
    "| Command |float(5) |  10>=\"9\"  | 10\\**2 |len(\"basic python\") |\n",
    "| :-: | :-: | :-: | :-: | :-: |\n",
    "| **Output**| 5.0 | TypeError: '>=' not supported between instances of 'int' and 'str' | 100 | 12 |"
   ]
  },
  {
   "cell_type": "markdown",
   "metadata": {},
   "source": [
    "**Q7**"
   ]
  },
  {
   "cell_type": "markdown",
   "metadata": {},
   "source": [
    "- **Input:** Input means taking the information from the user.\n",
    "    -**Function used:** input()\n",
    "- **Output:** Output means showing the information the user the user after performing some operations or solving some expressions.\n",
    "    -**Function used:** print()"
   ]
  },
  {
   "cell_type": "markdown",
   "metadata": {},
   "source": [
    "**Q8**"
   ]
  },
  {
   "cell_type": "markdown",
   "metadata": {},
   "source": [
    "| Operation | integer to float |  integer to string  | float to string | float to integer | string to float | string to integer |\n",
    "| :-: | :-: | :-: | :-: | :-: | :-: | :-: |\n",
    "| **command**| float(integer_variable) | str(integer_variable) | str(float_variable) | int(float_variable) | float(string_variable) | int(string_variable)|"
   ]
  },
  {
   "cell_type": "markdown",
   "metadata": {},
   "source": [
    "**Q9**"
   ]
  },
  {
   "cell_type": "code",
   "execution_count": 1,
   "metadata": {},
   "outputs": [
    {
     "name": "stdout",
     "output_type": "stream",
     "text": [
      "Enter an integer:15\n",
      "Integer entered is: 15\n"
     ]
    }
   ],
   "source": [
    "x = input(\"Enter an integer:\")\n",
    "y = int(x)\n",
    "print(\"Integer entered is:\",y)"
   ]
  },
  {
   "cell_type": "markdown",
   "metadata": {},
   "source": [
    "**Q10**"
   ]
  },
  {
   "cell_type": "code",
   "execution_count": 2,
   "metadata": {},
   "outputs": [
    {
     "name": "stdout",
     "output_type": "stream",
     "text": [
      "Enter first number:10\n",
      "Enter second number:20\n",
      "The sum of two numbers is: 30.0\n"
     ]
    }
   ],
   "source": [
    "x=float(input('Enter first number:'))\n",
    "y=float(input('Enter second number:'))\n",
    "print('The sum of two numbers is:',x+y)"
   ]
  },
  {
   "cell_type": "markdown",
   "metadata": {},
   "source": [
    "**Q11**"
   ]
  },
  {
   "cell_type": "code",
   "execution_count": 3,
   "metadata": {
    "scrolled": true
   },
   "outputs": [
    {
     "name": "stdout",
     "output_type": "stream",
     "text": [
      "Enter first number:50\n",
      "Enter second number:5\n",
      "55.0\n",
      "45.0\n",
      "250.0\n",
      "10.0\n",
      "0.0\n",
      "312500000.0\n",
      "10.0\n"
     ]
    }
   ],
   "source": [
    "x=float(input('Enter first number:'))\n",
    "y=float(input('Enter second number:'))\n",
    "print(x+y)    #addition\n",
    "print(x-y)    #sustraction   \n",
    "print(x*y)    #multiplication\n",
    "print(x/y)    #division\n",
    "print(x%y)    #modulus\n",
    "print(x**y)   #exponent\n",
    "print(x//y)   #quotient"
   ]
  },
  {
   "cell_type": "markdown",
   "metadata": {},
   "source": [
    "**Q12**"
   ]
  },
  {
   "cell_type": "code",
   "execution_count": 4,
   "metadata": {},
   "outputs": [
    {
     "name": "stdout",
     "output_type": "stream",
     "text": [
      "a and b not have same identity\n"
     ]
    }
   ],
   "source": [
    "a=50\n",
    "b=70\n",
    "if(a is b):\n",
    "    print('a and b have same identity')\n",
    "else:\n",
    "    print('a and b not have same identity')"
   ]
  },
  {
   "cell_type": "markdown",
   "metadata": {},
   "source": [
    "**Q13**"
   ]
  },
  {
   "cell_type": "code",
   "execution_count": 5,
   "metadata": {},
   "outputs": [
    {
     "name": "stdout",
     "output_type": "stream",
     "text": [
      "both strings are not same\n"
     ]
    }
   ],
   "source": [
    "str1='thief'\n",
    "str2='thieves'\n",
    "if(str1 == str2):\n",
    "    print(\"both strings are same\")\n",
    "else:\n",
    "    print(\"both strings are not same\")"
   ]
  },
  {
   "cell_type": "markdown",
   "metadata": {},
   "source": [
    "**Q14**"
   ]
  },
  {
   "cell_type": "code",
   "execution_count": 6,
   "metadata": {},
   "outputs": [
    {
     "name": "stdout",
     "output_type": "stream",
     "text": [
      "1 1 1\n"
     ]
    }
   ],
   "source": [
    "a=b=c=1\n",
    "print(a,b,c)"
   ]
  },
  {
   "cell_type": "markdown",
   "metadata": {},
   "source": [
    "**Q15**"
   ]
  },
  {
   "cell_type": "code",
   "execution_count": 7,
   "metadata": {},
   "outputs": [
    {
     "name": "stdout",
     "output_type": "stream",
     "text": [
      "1491328864\n"
     ]
    }
   ],
   "source": [
    "x=105\n",
    "print(id(x))"
   ]
  },
  {
   "cell_type": "markdown",
   "metadata": {},
   "source": [
    "**Q16**"
   ]
  },
  {
   "cell_type": "code",
   "execution_count": 8,
   "metadata": {},
   "outputs": [
    {
     "name": "stdout",
     "output_type": "stream",
     "text": [
      "3.7.6\n"
     ]
    }
   ],
   "source": [
    "from platform import python_version\n",
    "print(python_version())"
   ]
  },
  {
   "cell_type": "code",
   "execution_count": null,
   "metadata": {},
   "outputs": [],
   "source": []
  }
 ],
 "metadata": {
  "kernelspec": {
   "display_name": "Python 3",
   "language": "python",
   "name": "python3"
  },
  "language_info": {
   "codemirror_mode": {
    "name": "ipython",
    "version": 3
   },
   "file_extension": ".py",
   "mimetype": "text/x-python",
   "name": "python",
   "nbconvert_exporter": "python",
   "pygments_lexer": "ipython3",
   "version": "3.7.6"
  }
 },
 "nbformat": 4,
 "nbformat_minor": 4
}
